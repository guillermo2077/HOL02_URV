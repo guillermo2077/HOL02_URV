{
 "cells": [
  {
   "cell_type": "code",
   "metadata": {},
   "execution_count": 1,
   "outputs": [
    {
     "output_type": "stream",
     "name": "stdout",
     "text": [
      "  ____        _   _   _          ____  _       _ \n",
      " |  _ \\  ___ | |_| |_| | _____  / ___|| |_   _| |\n",
      " | | | |/ _ \\| __| __| |/ / _ \\ \\___ \\| | | | | |\n",
      " | |_| | (_) | |_| |_|   <  __/  ___) | | |_| |_|\n",
      " |____/ \\___/ \\__|\\__|_|\\_\\___| |____/|_|\\__, (_)\n",
      "                                          |___/   \n"
     ]
    }
   ],
   "source": [
    "# Simple Notebook with ASCII Art\n",
    "\n",
    "print('  ____        _   _   _          ____  _       _ ')\n",
    "print(' |  _ \\  ___ | |_| |_| | _____  / ___|| |_   _| |')\n",
    "print(' | | | |/ _ \\| __| __| |/ / _ \\ \\___ \\| | | | | |')\n",
    "print(' | |_| | (_) | |_| |_|   <  __/  ___) | | |_| |_|')\n",
    "print(' |____/ \\___/ \\__|\\__|_|\\_\\___| |____/|_|\\__, (_)')\n",
    "print('                                          |___/   ')"
   ]
  }
 ],
 "metadata": {
  "kernelspec": {
   "display_name": "Python 3",
   "language": "python",
   "name": "python3"
  },
  "language_info": {
   "codemirror_mode": {
    "name": "ipython",
    "version": 3
   },
   "file_extension": ".py",
   "mimetype": "text/x-python",
   "name": "python",
   "nbconvert_exporter": "python",
   "pygments_lexer": "ipython3",
   "version": "3.8.10"
  }
 },
 "nbformat": 4,
 "nbformat_minor": 4
}